{
 "cells": [
  {
   "cell_type": "code",
   "execution_count": 1,
   "metadata": {
    "collapsed": true,
    "jupyter": {
     "outputs_hidden": true
    }
   },
   "outputs": [],
   "source": [
    "import numpy as np"
   ]
  },
  {
   "cell_type": "markdown",
   "metadata": {},
   "source": [
    "***\n",
    "## Part 1\n",
    "\n",
    "A function $k: \\mathcal{X} \\times \\mathcal{X} \\to \\mathbb{R}$ is a **positive definite (p.d.) kernel** if and only if\n",
    "\n",
    "$\\forall n$, $\\forall a \\in \\mathbb{R}^n$, $x_i \\in \\mathcal{X}$, \n",
    "$$\\sum_{i,j = 1}^{n} a_i a_j k(x_i, x_j) \\geq 0$$\n",
    "\n",
    "In matrix notation, this condition is:\n",
    "$$\\mathbf{a}^\\top K \\mathbf{a} \\geq 0$$\n",
    "where $K$ is an $(n, n)$ matrix, $K_{i,j} = k(x_i, x_j)$\n",
    "\n",
    "It is also equivalent to $K$ being **positive semi-definite** (all its eigenvalues are $\\geq 0$ )"
   ]
  },
  {
   "cell_type": "markdown",
   "metadata": {},
   "source": [
    "### Exercise 1\n",
    "\n",
    "Let $k_1$ and $k_2$ be p.d. kernels.\n",
    "\n",
    "In each of the following cases, **show that $k$ is a p.d. kernel**\n",
    "\n",
    "**(a)** $k(x, y) = \\gamma k_1(x, y)$ with $\\gamma > 0$\n",
    "\n",
    "$$\\mathbf{a}^\\top K \\mathbf{a} = \\gamma \\mathbf{a}^\\top K_1 \\mathbf{a} \\geq 0$$\n",
    "\n",
    "$$\\sum_{i,j = 1}^{n} a_i a_j k(x_i, x_j) = \\gamma \\color{green}{\\sum_{i,j = 1}^{n} a_i a_j k_1(x_i, x_j)} \\geq 0$$\n",
    "\n",
    "\n",
    "**(b)** $k = k_1 + k_2$\n",
    "\n",
    "$$\\mathbf{a}^\\top K \\mathbf{a} = \\mathbf{a}^\\top (K_1 + K_2) \\mathbf{a} = \\mathbf{a}^\\top K_1 \\mathbf{a} + \\mathbf{a}^\\top K_2 \\mathbf{a}\\geq 0 $$\n",
    "\n",
    "**(c)** Let $f$ be a function $f: \\mathcal{X} \\to \\mathbb{R}$:\n",
    "$$k(x, y) = f(x)\\, k_1(x, y)\\, f(y)$$\n",
    "\n",
    "$$\\begin{aligned}\n",
    "\\sum_{i,j = 1}^{n} a_i a_j k(x_i, x_j) &= \\sum_{i,j = 1}^{n} a_i a_j f(x_i)k_1(x_i, x_j)f(x_j)\\\\\n",
    "&= \\sum_{i,j = 1}^{n} b_i b_j k_1(x_i, x_j) \\geq 0\n",
    "\\end{aligned}$$\n",
    "\n",
    "where $b_i = f(x_i) a_i$\n",
    " \n",
    "**(d)** Let $(k_m)$ be a series of p.d. kernels such that for every $x$, $y$, $\\left(k_m(x, y)\\right)_m$ converges. $$k(x, y) = \\lim_{m \\to +\\infty} k_m(x, y)$$\n",
    "\n",
    "For all $m$, since $k_m$ is p.d.:\n",
    "$$\\sum_{i,j = 1}^{n} a_i a_j k_m(x_i, x_j) \\geq 0$$\n",
    "\n",
    "Taking the limit $m \\to + \\infty$:\n",
    "$$\\sum_{i,j = 1}^{n} a_i a_j k(x_i, x_j) \\geq 0$$\n",
    "\n",
    "\n",
    "**(e)** $k(x, y) = k_1(x, y) k_2(x, y)$ *This is accepted without proof*\n",
    "\n",
    "**Corollary of (e)** $k(x, y) = (k_1(x, y))^d $ is pd for all $d \\in \\mathbb{N}$\n",
    "\n",
    "**(f)** $k(x, y) = \\exp\\,\\left(k_1(x, y)\\right)$\n",
    "\n",
    "*Hint: Taylor series of $\\exp$*\n",
    "\n",
    "$$k = \\exp(k_1) = \\sum_{d=0}^{+\\infty} \\frac{k_1^d}{d!}$$\n",
    "\n",
    "Combination of (a), (b) and (d)\n",
    "\n",
    "- $\\frac{k_1^d}{d!}$ is p.d because of (a) and (e)\n",
    "- $k_m = \\sum_{d=0}^{m}\\frac{k_1^d}{d!}$ is p.d because of (b) (recursion)\n",
    "- $k = \\sum_{d=0}^{+\\infty}\\frac{k_1^d}{d!}$ is p.d because of (d) ($m \\to +\\infty$)\n",
    "\n",
    "**(g)** There exists $\\Phi: \\mathcal{X} \\to \\mathcal{X}'$ such that $$k(x, y) = \\Phi(x)^\\top \\Phi(y)$$\n",
    "\n",
    " *(In fact it is shown in the course that this condition is equivalent to $k$ being p.d.)*\n",
    " \n",
    " $$\\begin{aligned}\n",
    "\\sum_{i,j = 1}^{n} a_i a_j k(x_i, x_j) &= \\sum_{i,j = 1}^{n} a_ia_j \\Phi(x_i)^\\top \\Phi(x_j) \\\\\n",
    "&= \\left(\\sum_{i = 1}^{n} a_i \\Phi(x_i)\\right)^\\top \\left(\\sum_{j = 1}^{n} a_j \\Phi(x_j)\\right) \\\\\n",
    "&= \\|\\sum_{i = 1}^{n} a_i \\Phi(x_i)\\|^2 \\geq 0\n",
    "\\end{aligned}$$"
   ]
  },
  {
   "cell_type": "markdown",
   "metadata": {},
   "source": [
    "**If you can express $k$ as a scalar product, then it is p.d.**"
   ]
  },
  {
   "cell_type": "markdown",
   "metadata": {},
   "source": [
    "### Exercise 2\n",
    "\n",
    "The Radial Basis Function (RBF) kernel with parameter $\\sigma$ is defined as follows:\n",
    "\n",
    "$$k_\\sigma(x, y) = \\exp \\left( -\\frac{\\|x-y\\|^2}{2 \\sigma^2}\\right)$$\n",
    "\n",
    "#### Part (a)\n",
    "Show that $k_\\sigma$ is a p.d. kernel.\n",
    "\n",
    "\n",
    "*Hint: Expand $\\|x-y\\|^2 = \\|x\\|^2 -2x^\\top y + \\|y\\|^2$ and use exercise 1*"
   ]
  },
  {
   "cell_type": "markdown",
   "metadata": {},
   "source": [
    "$$\\begin{aligned}\n",
    "k_\\sigma(x, y) &= \\exp \\left( -\\frac{\\|x-y\\|^2}{2 \\sigma^2}\\right) \\\\\n",
    "&=  \\exp \\left( -\\frac{\\|x\\|^2}{2 \\sigma^2}\\right) \\exp \\left( \\frac{x^\\top y}{\\sigma^2}\\right) \\exp \\left( -\\frac{\\|y\\|^2}{2 \\sigma^2}\\right)\\\\\n",
    "&=  f(x) \\exp \\left( \\frac{x^\\top y}{\\sigma^2}\\right) f(y)\n",
    "\\end{aligned}$$\n",
    "\n"
   ]
  },
  {
   "cell_type": "markdown",
   "metadata": {},
   "source": [
    "- $k(x, y) = x^\\top y$ is a kernel (g)\n",
    "- $k(x, y) = \\exp \\left( \\frac{x^\\top y}{\\sigma^2}\\right)$ is also a kernel (question (f))\n",
    "- $k_\\sigma(x, y) = f(x)k(x, y)f(y)$ is also a pd kernel ! question (c)"
   ]
  },
  {
   "cell_type": "markdown",
   "metadata": {},
   "source": [
    "### Implementation\n",
    "\n",
    "Vector with vector:"
   ]
  },
  {
   "cell_type": "markdown",
   "metadata": {},
   "source": [
    "$$k_\\sigma(x, y) = \\exp \\left( -\\frac{\\|x-y\\|^2}{2 \\sigma^2}\\right)$$\n"
   ]
  },
  {
   "cell_type": "code",
   "execution_count": 2,
   "metadata": {
    "collapsed": true,
    "jupyter": {
     "outputs_hidden": true
    }
   },
   "outputs": [],
   "source": [
    "def rbf_kernel_element_wise(x, y, sigma=1):\n",
    "    '''\n",
    "    returns the RBF (Gaussian) kernel k(x, y)\n",
    "    \n",
    "    Input:\n",
    "    ------\n",
    "    x and y are p-dimensional vectors \n",
    "    '''\n",
    "    K = np.exp(- np.sum((x - y)**2) / (2 * sigma ** 2))\n",
    "    return K"
   ]
  },
  {
   "cell_type": "markdown",
   "metadata": {},
   "source": [
    "Pairwise: return the matrix $\\left[k_\\sigma(X^1_i, X^2_j)\\right]_{i,j}$\n",
    "\n",
    "*Hint: expand $\\|x-y\\|^2$ again!*"
   ]
  },
  {
   "cell_type": "code",
   "execution_count": 12,
   "metadata": {
    "collapsed": true,
    "jupyter": {
     "outputs_hidden": true
    }
   },
   "outputs": [],
   "source": [
    "def rbf_kernel(X1, X2, sigma=10):\n",
    "    '''\n",
    "    Returns the kernel matrix K(X1_i, X2_j): size (n1, n2)\n",
    "    \n",
    "    Input:\n",
    "    ------\n",
    "    X1: an (n1, p) matrix\n",
    "    X2: an (n2, p) matrix\n",
    "    '''\n",
    "    # For loop with rbf_kernel_element works but is slow in python\n",
    "    # Use matrix operations!\n",
    "    X2_norm = np.sum(X2 ** 2, axis=-1)\n",
    "    X1_norm = np.sum(X1 ** 2, axis=-1)\n",
    "    gamma = 1 / (2 * sigma ** 2)\n",
    "    K = np.exp(- gamma * (X1_norm[:, None] + X2_norm[None, :] - 2 * np.dot(X1, X2.T)))\n",
    "    return K"
   ]
  },
  {
   "cell_type": "markdown",
   "metadata": {},
   "source": [
    "#### Test it:"
   ]
  },
  {
   "cell_type": "code",
   "execution_count": 15,
   "metadata": {},
   "outputs": [
    {
     "data": {
      "text/plain": [
       "array([[6.06243880e-06, 6.06243880e-06, 6.06243880e-06, 6.06243880e-06,\n",
       "        6.06243880e-06, 6.06243880e-06, 6.06243880e-06, 6.06243880e-06,\n",
       "        6.06243880e-06, 6.06243880e-06, 6.06243880e-06, 6.06243880e-06,\n",
       "        6.06243880e-06, 6.06243880e-06, 6.06243880e-06],\n",
       "       [6.14315841e-07, 6.14315841e-07, 6.14315841e-07, 6.14315841e-07,\n",
       "        6.14315841e-07, 6.14315841e-07, 6.14315841e-07, 6.14315841e-07,\n",
       "        6.14315841e-07, 6.14315841e-07, 6.14315841e-07, 6.14315841e-07,\n",
       "        6.14315841e-07, 6.14315841e-07, 6.14315841e-07],\n",
       "       [7.28963810e-04, 7.28963810e-04, 7.28963810e-04, 7.28963810e-04,\n",
       "        7.28963810e-04, 7.28963810e-04, 7.28963810e-04, 7.28963810e-04,\n",
       "        7.28963810e-04, 7.28963810e-04, 7.28963810e-04, 7.28963810e-04,\n",
       "        7.28963810e-04, 7.28963810e-04, 7.28963810e-04],\n",
       "       [2.11049344e-05, 2.11049344e-05, 2.11049344e-05, 2.11049344e-05,\n",
       "        2.11049344e-05, 2.11049344e-05, 2.11049344e-05, 2.11049344e-05,\n",
       "        2.11049344e-05, 2.11049344e-05, 2.11049344e-05, 2.11049344e-05,\n",
       "        2.11049344e-05, 2.11049344e-05, 2.11049344e-05],\n",
       "       [1.29940239e-07, 1.29940239e-07, 1.29940239e-07, 1.29940239e-07,\n",
       "        1.29940239e-07, 1.29940239e-07, 1.29940239e-07, 1.29940239e-07,\n",
       "        1.29940239e-07, 1.29940239e-07, 1.29940239e-07, 1.29940239e-07,\n",
       "        1.29940239e-07, 1.29940239e-07, 1.29940239e-07],\n",
       "       [9.73149379e-03, 9.73149379e-03, 9.73149379e-03, 9.73149379e-03,\n",
       "        9.73149379e-03, 9.73149379e-03, 9.73149379e-03, 9.73149379e-03,\n",
       "        9.73149379e-03, 9.73149379e-03, 9.73149379e-03, 9.73149379e-03,\n",
       "        9.73149379e-03, 9.73149379e-03, 9.73149379e-03],\n",
       "       [5.42884747e-08, 5.42884747e-08, 5.42884747e-08, 5.42884747e-08,\n",
       "        5.42884747e-08, 5.42884747e-08, 5.42884747e-08, 5.42884747e-08,\n",
       "        5.42884747e-08, 5.42884747e-08, 5.42884747e-08, 5.42884747e-08,\n",
       "        5.42884747e-08, 5.42884747e-08, 5.42884747e-08],\n",
       "       [1.01078648e-09, 1.01078648e-09, 1.01078648e-09, 1.01078648e-09,\n",
       "        1.01078648e-09, 1.01078648e-09, 1.01078648e-09, 1.01078648e-09,\n",
       "        1.01078648e-09, 1.01078648e-09, 1.01078648e-09, 1.01078648e-09,\n",
       "        1.01078648e-09, 1.01078648e-09, 1.01078648e-09],\n",
       "       [9.80911035e-06, 9.80911035e-06, 9.80911035e-06, 9.80911035e-06,\n",
       "        9.80911035e-06, 9.80911035e-06, 9.80911035e-06, 9.80911035e-06,\n",
       "        9.80911035e-06, 9.80911035e-06, 9.80911035e-06, 9.80911035e-06,\n",
       "        9.80911035e-06, 9.80911035e-06, 9.80911035e-06],\n",
       "       [6.90135536e-04, 6.90135536e-04, 6.90135536e-04, 6.90135536e-04,\n",
       "        6.90135536e-04, 6.90135536e-04, 6.90135536e-04, 6.90135536e-04,\n",
       "        6.90135536e-04, 6.90135536e-04, 6.90135536e-04, 6.90135536e-04,\n",
       "        6.90135536e-04, 6.90135536e-04, 6.90135536e-04]])"
      ]
     },
     "execution_count": 15,
     "metadata": {},
     "output_type": "execute_result"
    }
   ],
   "source": [
    "p = 3\n",
    "X1 = np.random.uniform(0,1,(10,p))\n",
    "X2 = np.ones((15, p))\n",
    "\n",
    "rbf_kernel(X1, X2, sigma=0.2)"
   ]
  },
  {
   "cell_type": "markdown",
   "metadata": {},
   "source": [
    "### Choosing $\\sigma$\n",
    "A practical approach of choosing $\\sigma$ is called the \"median heuristic\":\n",
    "    $$ \\sigma \\approx \\mathrm{median} \\left\\{\\|x_i-x_j\\|:i,j=1,\\dots, n\\right\\} \\,.$$\n",
    "\n",
    "Implement this heuristic:"
   ]
  },
  {
   "cell_type": "code",
   "execution_count": 16,
   "metadata": {},
   "outputs": [
    {
     "name": "stdout",
     "output_type": "stream",
     "text": [
      "0.6513922640360041\n"
     ]
    }
   ],
   "source": [
    "def sigma_from_median(X):\n",
    "    '''\n",
    "    Returns the median of ||Xi-Xj||\n",
    "    \n",
    "    Input\n",
    "    -----\n",
    "    X: (n, p) matrix\n",
    "    '''\n",
    "    pairwise_diff = X[:, :, None] - X[:, :, None].T\n",
    "    pairwise_diff *= pairwise_diff\n",
    "    euclidean_dist = np.sqrt(pairwise_diff.sum(axis=1))\n",
    "    return np.median(euclidean_dist)\n",
    "\n",
    "print(sigma_from_median(X1))"
   ]
  },
  {
   "cell_type": "code",
   "execution_count": 17,
   "metadata": {
    "collapsed": true,
    "jupyter": {
     "outputs_hidden": true
    }
   },
   "outputs": [],
   "source": [
    "# Simulate data\n",
    "np.random.seed(54321)\n",
    "p = 2\n",
    "\n",
    "def generate_Xy(n_samples, p=2, sigma=.2):\n",
    "    # Half of y is 1s, other half is -1\n",
    "    y = np.ones(n_samples)\n",
    "    mid = int(n_samples / 2)\n",
    "    y[mid:] *= -1\n",
    "    \n",
    "    X = np.random.normal(0, 10*sigma, (n_samples, p))\n",
    "    X += (1 - y[:, np.newaxis]) / 2 # add 1 when y = -1\n",
    "    # X of shape (n, p)\n",
    "    # y vector of length n\n",
    "    return X, y\n",
    "\n",
    "# Training data\n",
    "X_train, y_train = generate_Xy(20, sigma=1.)\n",
    "\n",
    "# Testing data\n",
    "X_test, y_test = generate_Xy(1000, sigma=10.)"
   ]
  },
  {
   "cell_type": "markdown",
   "metadata": {},
   "source": [
    "Plot the matrix $K$ for different values of sigma"
   ]
  },
  {
   "cell_type": "code",
   "execution_count": 18,
   "metadata": {},
   "outputs": [
    {
     "data": {
      "text/plain": [
       "<matplotlib.text.Text at 0x10df2a410>"
      ]
     },
     "execution_count": 18,
     "metadata": {},
     "output_type": "execute_result"
    },
    {
     "data": {
      "image/png": "[encoded data removed]",
      "text/plain": [
       "<matplotlib.figure.Figure at 0x10dda6e90>"
      ]
     },
     "metadata": {},
     "output_type": "display_data"
    }
   ],
   "source": [
    "from matplotlib import pyplot as plt\n",
    "from sklearn.metrics.pairwise import euclidean_distances\n",
    "%matplotlib inline\n",
    "\n",
    "# sigma very small, very large and median heuristic\n",
    "keyL = ['Very small sigma', 'Very large sigma', 'Median heuristic']\n",
    "sigL = [1e-6, 1e8, sigma_from_median(X_train)]\n",
    "KL = [rbf_kernel(X_train, X_train, sigma=sig) for sig in sigL]\n",
    "\n",
    "# Plot\n",
    "fig, (ax0, ax1, ax2) = plt.subplots(1,3)\n",
    "ax0.matshow(KL[0])\n",
    "ax0.set_xlabel(keyL[0])\n",
    "ax1.matshow(KL[1])\n",
    "ax1.set_xlabel(keyL[1])\n",
    "ax2.matshow(KL[2])\n",
    "ax2.set_xlabel(keyL[2])"
   ]
  },
  {
   "cell_type": "markdown",
   "metadata": {},
   "source": [
    "#### Interpretation\n",
    "Plot above: kernel matrix K.\n",
    "\n",
    "Diagonal elements are $k(x_i, x_i) = 1$\n",
    "    \n",
    "  - for very small sigma, $k(x_i, x_j) = 0$ if $i \\neq j$\n",
    "  - for very large sigma, $k(x_i, x_j) = 1$ for all $i$ $j$\n",
    "  \n",
    "  \n",
    "If $\\sigma$ is too small or too large, the kernel matrix $K$ is uninformative"
   ]
  },
  {
   "cell_type": "markdown",
   "metadata": {},
   "source": [
    "### Kernel Ridge Regression\n",
    "\n",
    "Reminder: for regular ridge regression, the prediction rule is \n",
    "$$\\hat{y}(X_t) = X_t \\beta \\, \\,\\,\\, \\text{ with } \\beta = X^\\top(XX^\\top + \\lambda n I)^{-1} y $$\n",
    "\n",
    "Rewriting the prediction rule:\n",
    "$$\\hat{y}(X_t) = X_t X^\\top(XX^\\top + \\lambda n I)^{-1} y$$\n",
    "\n",
    "We now use the kernel trick to replace the pairwise dot products $XX^\\top$ by a kernel matrix:\n",
    "$$\\color{green}{\\hat{y}(X_t) = K_{X_t, X} (K_{X, X} + \\lambda n I)^{-1} y}$$"
   ]
  },
  {
   "cell_type": "markdown",
   "metadata": {},
   "source": [
    "**Goal**: Complete the `KernelRidge` class"
   ]
  },
  {
   "cell_type": "code",
   "execution_count": 19,
   "metadata": {
    "collapsed": true,
    "jupyter": {
     "outputs_hidden": true
    }
   },
   "outputs": [],
   "source": [
    "class KernelRidge():\n",
    "    '''\n",
    "    Kernel Ridge Regression\n",
    "    \n",
    "    Methods\n",
    "    ----\n",
    "    fit\n",
    "    predict\n",
    "    '''\n",
    "    def __init__(self, sigma=None, lambd=0.1):\n",
    "        self.kernel = rbf_kernel\n",
    "        self.sigma = sigma\n",
    "        self.lambd = lambd\n",
    "\n",
    "    def fit(self, X, y):\n",
    "        n, p = X.shape\n",
    "        assert (n == len(y))\n",
    "    \n",
    "        self.X_train = X\n",
    "        \n",
    "        # Compute default sigma from data\n",
    "        if self.sigma is None:\n",
    "            self.sigma = sigma_from_median(X)\n",
    "        \n",
    "        A = self.kernel(X, X, sigma=self.sigma) + n * self.lambd * np.eye(n)\n",
    "        \n",
    "        ## self.alpha = (K + n lambda I)^-1 y\n",
    "        # Solution to A x = y\n",
    "        self.alpha = np.linalg.solve(A , y)\n",
    "\n",
    "        return self\n",
    "        \n",
    "    def predict(self, X):\n",
    "        # Prediction rule: \n",
    "        K_x = self.kernel(X, self.X_train, sigma=self.sigma)\n",
    "        return K_x.dot(self.alpha)"
   ]
  },
  {
   "cell_type": "code",
   "execution_count": 20,
   "metadata": {
    "scrolled": true
   },
   "outputs": [
    {
     "name": "stdout",
     "output_type": "stream",
     "text": [
      "(1000,)\n"
     ]
    }
   ],
   "source": [
    "model = KernelRidge(lambd=0.1, sigma=None)\n",
    "y_pred = model.fit(X_train, y_train).predict(X_test)\n",
    "print(y_pred.shape)"
   ]
  },
  {
   "cell_type": "markdown",
   "metadata": {},
   "source": [
    "$$\\color{green}{\\hat{y}(X_t) = K_{X_t, X} \\alpha}$$"
   ]
  },
  {
   "cell_type": "markdown",
   "metadata": {},
   "source": [
    "#### Reproduce the figures from slide 135"
   ]
  },
  {
   "cell_type": "code",
   "execution_count": 29,
   "metadata": {
    "collapsed": true,
    "jupyter": {
     "outputs_hidden": true
    }
   },
   "outputs": [],
   "source": [
    "x_train = np.linspace(0, 10, 40)\n",
    "y_train = np.sin(x_train) + 0.5 * np.random.randn(len(x_train))\n",
    "\n",
    "x_test = np.linspace(0, 10, 200)"
   ]
  },
  {
   "cell_type": "code",
   "execution_count": 30,
   "metadata": {},
   "outputs": [
    {
     "data": {
      "application/vnd.jupyter.widget-view+json": {
       "model_id": "b29a5153882d40fc8de146fdfb029191",
       "version_major": 2,
       "version_minor": 0
      },
      "text/plain": [
       "VBox(children=(Figure(axes=[Axis(orientation='vertical', scale=LinearScale()), Axis(scale=LinearScale())], fig…"
      ]
     },
     "metadata": {},
     "output_type": "display_data"
    }
   ],
   "source": [
    "import bqplot.pyplot as bqp\n",
    "\n",
    "bqp.figure()\n",
    "bqp.scatter(x_train, y_train)\n",
    "bqp.show()"
   ]
  },
  {
   "cell_type": "code",
   "execution_count": 31,
   "metadata": {},
   "outputs": [
    {
     "data": {
      "application/vnd.jupyter.widget-view+json": {
       "model_id": "fe8dec3d51d54f7e87d7920e77980a53",
       "version_major": 2,
       "version_minor": 0
      },
      "text/plain": [
       "VBox(children=(Figure(axes=[Axis(orientation='vertical', scale=LinearScale()), Axis(scale=LinearScale())], fig…"
      ]
     },
     "metadata": {},
     "output_type": "display_data"
    }
   ],
   "source": [
    "import bqplot.pyplot as bqp\n",
    "from ipywidgets import FloatSlider, FloatLogSlider, HBox, VBox\n",
    "\n",
    "lambda_slider = FloatSlider(description='lambda', min=0.0001, max=1, step=0.0001)\n",
    "sigma_slider = FloatSlider(value=0.5, description='sigma', min=0.01, max=1, step=0.01)\n",
    "\n",
    "fig = bqp.figure()\n",
    "bqp.scatter(x_train, y_train, fill=False)\n",
    "regression_line = bqp.plot(x_test, y_test, colors=['red'])\n",
    "\n",
    "\n",
    "def update_regression(*args):\n",
    "    model = KernelRidge(\n",
    "        lambd=lambda_slider.value,\n",
    "        sigma=sigma_slider.value\n",
    "    ).fit(x_train[:, None], y_train)\n",
    "    regression_line.y = model.predict(x_test[:, None])\n",
    "\n",
    "lambda_slider.observe(update_regression)\n",
    "sigma_slider.observe(update_regression)\n",
    "\n",
    "update_regression()\n",
    "\n",
    "VBox([fig, HBox([lambda_slider, sigma_slider])])"
   ]
  },
  {
   "cell_type": "code",
   "execution_count": null,
   "metadata": {
    "collapsed": true,
    "jupyter": {
     "outputs_hidden": true
    }
   },
   "outputs": [],
   "source": []
  }
 ],
 "metadata": {
  "kernelspec": {
   "display_name": "Python 3",
   "language": "python",
   "name": "python3"
  },
  "language_info": {
   "codemirror_mode": {
    "name": "ipython",
    "version": 3
   },
   "file_extension": ".py",
   "mimetype": "text/x-python",
   "name": "python",
   "nbconvert_exporter": "python",
   "pygments_lexer": "ipython3",
   "version": "3.7.4"
  }
 },
 "nbformat": 4,
 "nbformat_minor": 4
}
