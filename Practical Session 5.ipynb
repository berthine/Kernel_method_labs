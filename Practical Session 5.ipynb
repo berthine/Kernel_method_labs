{
 "cells": [
  {
   "cell_type": "code",
   "execution_count": 3,
   "metadata": {
    "collapsed": true,
    "jupyter": {
     "outputs_hidden": true
    }
   },
   "outputs": [],
   "source": [
    "import numpy as np"
   ]
  },
  {
   "cell_type": "markdown",
   "metadata": {},
   "source": [
    "***\n",
    "## Part 1\n",
    "\n",
    "A function $k: \\mathcal{X} \\times \\mathcal{X} \\to \\mathbb{R}$ is a **positive definite (p.d.) kernel** if and only if\n",
    "\n",
    "$\\forall a_i \\in \\mathbb{R}$, $x_i \\in \\mathcal{X}$, \n",
    "$$\\sum_{i,j = 1}^{m} a_i a_j k(x_i, x_j) \\geq 0$$"
   ]
  },
  {
   "cell_type": "markdown",
   "metadata": {},
   "source": [
    "### Exercise 1\n",
    "\n",
    "Let $k_1$ and $k_2$ be p.d. kernels.\n",
    "\n",
    "In each of the following cases, **show that $k$ is a p.d. kernel**\n",
    "\n",
    "**(a)** $k = \\gamma k_1$ with $\\gamma > 0$\n",
    "\n",
    "**(b)** $k = k_1 + k_2$\n",
    "\n",
    "**(c)** Let $f$ be a function $f: \\mathcal{X} \\to \\mathbb{R}$:\n",
    "$$k(x, y) = f(x)\\, k_1(x, y)\\, f(y)$$\n",
    " \n",
    "**(d)** Let $(k_n)$ be a series of p.d. kernels such that for every $x$, $y$, $\\left(k_n(x, y)\\right)_n$ converges. $$k(x, y) = \\lim_{n \\to +\\infty} k_n(x, y)$$\n",
    "\n",
    "**(e)** $k(x, y) = k_1(x, y) k_2(x, y)$ *This is accepted without proof*\n",
    "\n",
    "**(f)** $k(x, y) = \\exp\\,\\left(k_1(x, y)\\right)$\n",
    "\n",
    "**(g)** There exists $\\Phi: \\mathcal{X} \\to \\mathcal{X}'$ such that $$k(x, y) = \\Phi(x)^\\top \\Phi(y)$$\n",
    "\n",
    " *(In fact it is shown in the course that this condition is equivalent to $k$ being p.d.)*"
   ]
  },
  {
   "cell_type": "markdown",
   "metadata": {},
   "source": [
    "## Solutions\n",
    "\n",
    "**(a)** $k = \\gamma k_1$ with $\\gamma > 0$\n",
    "$$a^TKa = \\gamma a^TK_1a \\geq 0$$\n",
    "$$\\sum_{i,j = 1}^{m} a_i a_j k(x_i, x_j) = \\gamma \\sum_{i,j = 1}^{m} a_i a_j k_1(x_i, x_j) \\geq 0$$\n",
    "\n",
    "**(b)** $k=k_1+k_2$\n",
    "\n",
    "$$a^TKa = a^T(K_1+K_2)a = a^TK_1a + a^TK_2)a \\geq 0$$\n",
    "\n",
    "**(c)**  Let $f$ be a function $f: \\mathcal{X} \\to \\mathbb{R}$:\n",
    "$$k(x, y) = f(x)\\, k_1(x, y)\\, f(y)$$\n",
    "write the sum and show that it positive\n",
    "$$\\begin{aligned}\n",
    "\\sum_{i,j=1}^{n} \n",
    "\\end{aligned}$$\n",
    "\n",
    "**(d)** Let $f$ be a function $f: \\mathcal{X} \\to \\mathbb{R}$:\n",
    "$$k(x, y) = f(x)\\, k_1(x, y)\\, f(y)$$\n",
    "\n",
    "For all $n$, sine $k_n$ is p.d:\n",
    "$$\\sum_{i,j = 1}^{n} a_i a_j k_m(x_i, x_j) \\geq 0 $$\n",
    "Takiing the limit to $m \\to + \\infty:$\n",
    "$$\\sum_{i,j = 1}^{n} a_i a_j k(x_i, x_j) \\geq 0 $$\n",
    "\n",
    "\n",
    "**(e)** $k(x, y) = k_1(x, y) k_2(x, y)$ *This is accepted without proof*\n",
    "**corollary of (e)** $k(x,y) = (k_1(x,y))^d$ is pd for all $d\\in N$.\n",
    "\n",
    "**(f)** $k(x, y) = \\exp\\,\\left(k_1(x, y)\\right)$\n",
    "Hint: Taylord series of exp\n",
    "\n",
    "$k=exp(k_1) =  \\sum_{d=0}^+\\infty \\frac{k_1^d}{d!}$\n",
    "Combination of (a), (b) and (d)\n",
    "- $\\frac{k_1^d}{d!}$ is pd because of (a) and (e)\n",
    "- $k_m=\\sum_{d=0}^m \\frac{k_1^d}{d!}$ is pd because of (b) (recursion)\n",
    "-$ k = \\sum_{d=0}^+{\\infty} \\frac{k_1^d}{d!}$ is pd because of (d) ($m \\to \\infty$)\n",
    "\n",
    "**(g)** There exists $\\Phi: \\mathcal{X} \\to \\mathcal{X}'$ such that $$k(x, y) = \\Phi(x)^\\top \\Phi(y)$$\n"
   ]
  },
  {
   "cell_type": "markdown",
   "metadata": {},
   "source": [
    "### Exercise 2\n",
    "\n",
    "The Radial Basis Function (RBF) kernel with parameter $\\sigma$ is defined as follows:\n",
    "\n",
    "$$k_\\sigma(x, y) = \\exp \\left( -\\frac{\\|x-y\\|^2}{2 \\sigma^2}\\right)$$\n",
    "\n",
    "#### Part (a)\n",
    "Show that $k_\\sigma$ is a p.d. kernel.\n",
    "\n",
    "\n",
    "*Hint: Expand $\\|x-y\\|^2 = ||x||^2 -  2x^Ty +||y||^2$ and use exercise 1*\n",
    "$$k_{\\sigma}(x, y) = exp \\left( -\\frac{\\|x-y\\|^2}{2 \\sigma^2}\\right)$$"
   ]
  },
  {
   "cell_type": "markdown",
   "metadata": {},
   "source": [
    "$$k_\\sigma(x, y) = exp \\left( -\\frac{\\|x-y\\|^2}{2 \\sigma^2}\\right)$$\n",
    "$$= exp \\left(- \\frac{\\|x \\|^2}{2\\sigma^2} \\right)exp \\left(\\frac{x^Ty}{ \\sigma^2} \\right) exp \\left(-\\frac{\\|y \\|^2}{2 \\sigma^2} \\right)$$\n",
    "\n",
    "$$= f(x) exp \\left(\\frac{x^Ty}{\\sigma^2} \\right) f(y)$$"
   ]
  },
  {
   "cell_type": "markdown",
   "metadata": {},
   "source": [
    "### Implementation\n",
    "\n",
    "Vector with vector:"
   ]
  },
  {
   "cell_type": "code",
   "execution_count": 4,
   "metadata": {},
   "outputs": [],
   "source": [
    "import numpy as np"
   ]
  },
  {
   "cell_type": "code",
   "execution_count": 15,
   "metadata": {},
   "outputs": [],
   "source": [
    "def rbf_kernel_element_wise(x, y, sigma=1):\n",
    "    '''\n",
    "    returns the RBF (Gaussian) kernel k(x, y)\n",
    "    \n",
    "    Input:\n",
    "    ------\n",
    "    x and y are p-dimensional vectors \n",
    "    '''\n",
    "    K = np.exp(-np.sum((x-y)**2)/(2*sigma**2))\n",
    "    return K"
   ]
  },
  {
   "cell_type": "markdown",
   "metadata": {},
   "source": [
    "Pairwise: return the matrix $\\left[K(X^1_i, X^2_j)\\right]_{i,j}$\n",
    "\n",
    "*Hint: expand $\\|x-y\\|^2$ again!*"
   ]
  },
  {
   "cell_type": "code",
   "execution_count": 16,
   "metadata": {},
   "outputs": [],
   "source": [
    "def rbf_kernel(X1, X2, sigma=10):\n",
    "    '''\n",
    "    Returns the kernel matrix K(X1_i, X2_j): size (n1, n2)\n",
    "    \n",
    "    Input:\n",
    "    ------\n",
    "    X1: an (n1, p) matrix\n",
    "    X2: an (n2, p) matrix\n",
    "    '''\n",
    "    X2_norm = np.sum(X2 ** 2, axis = -1)\n",
    "    X1_norm = np.sum(X1 ** 2, axis = -1)\n",
    "    gamma = 1 / (2 * sigma ** 2)\n",
    "#     K = np.exp(-gamma * (x1_norm[:, np.newaxis] + x2_norm[None, :]-2*np.dot(X1, X2.T)))\n",
    "    K = np.exp(- gamma * (X1_norm[:, None] + X2_norm[None, :] - 2 * np.dot(X1, X2.T))) \n",
    "    return K"
   ]
  },
  {
   "cell_type": "markdown",
   "metadata": {},
   "source": [
    "#### Test it:"
   ]
  },
  {
   "cell_type": "code",
   "execution_count": 28,
   "metadata": {},
   "outputs": [
    {
     "name": "stdout",
     "output_type": "stream",
     "text": [
      "[]\n"
     ]
    },
    {
     "ename": "ValueError",
     "evalue": "shapes (15,3) and (3,10,1,0) not aligned: 3 (dim 1) != 1 (dim 2)",
     "output_type": "error",
     "traceback": [
      "\u001b[0;31m---------------------------------------------------------------------------\u001b[0m",
      "\u001b[0;31mValueError\u001b[0m                                Traceback (most recent call last)",
      "\u001b[0;32m<ipython-input-28-2f364d26a461>\u001b[0m in \u001b[0;36m<module>\u001b[0;34m\u001b[0m\n\u001b[1;32m      3\u001b[0m \u001b[0mX_test\u001b[0m \u001b[0;34m=\u001b[0m \u001b[0mnp\u001b[0m\u001b[0;34m.\u001b[0m\u001b[0mzeros\u001b[0m\u001b[0;34m(\u001b[0m\u001b[0;34m(\u001b[0m\u001b[0;36m15\u001b[0m\u001b[0;34m,\u001b[0m \u001b[0mp\u001b[0m\u001b[0;34m)\u001b[0m\u001b[0;34m)\u001b[0m\u001b[0;34m\u001b[0m\u001b[0;34m\u001b[0m\u001b[0m\n\u001b[1;32m      4\u001b[0m \u001b[0mprint\u001b[0m\u001b[0;34m(\u001b[0m\u001b[0mX_train\u001b[0m\u001b[0;34m)\u001b[0m\u001b[0;34m\u001b[0m\u001b[0;34m\u001b[0m\u001b[0m\n\u001b[0;32m----> 5\u001b[0;31m \u001b[0mprint\u001b[0m\u001b[0;34m(\u001b[0m\u001b[0mrbf_kernel\u001b[0m\u001b[0;34m(\u001b[0m\u001b[0mX_test\u001b[0m\u001b[0;34m,\u001b[0m \u001b[0mX_train\u001b[0m\u001b[0;34m)\u001b[0m\u001b[0;34m.\u001b[0m\u001b[0mshape\u001b[0m\u001b[0;34m)\u001b[0m\u001b[0;34m\u001b[0m\u001b[0;34m\u001b[0m\u001b[0m\n\u001b[0m",
      "\u001b[0;32m<ipython-input-16-5a241e9daf94>\u001b[0m in \u001b[0;36mrbf_kernel\u001b[0;34m(X1, X2, sigma)\u001b[0m\n\u001b[1;32m     12\u001b[0m     \u001b[0mgamma\u001b[0m \u001b[0;34m=\u001b[0m \u001b[0;36m1\u001b[0m \u001b[0;34m/\u001b[0m \u001b[0;34m(\u001b[0m\u001b[0;36m2\u001b[0m \u001b[0;34m*\u001b[0m \u001b[0msigma\u001b[0m \u001b[0;34m**\u001b[0m \u001b[0;36m2\u001b[0m\u001b[0;34m)\u001b[0m\u001b[0;34m\u001b[0m\u001b[0;34m\u001b[0m\u001b[0m\n\u001b[1;32m     13\u001b[0m \u001b[0;31m#     K = np.exp(-gamma * (x1_norm[:, np.newaxis] + x2_norm[None, :]-2*np.dot(X1, X2.T)))\u001b[0m\u001b[0;34m\u001b[0m\u001b[0;34m\u001b[0m\u001b[0;34m\u001b[0m\u001b[0m\n\u001b[0;32m---> 14\u001b[0;31m     \u001b[0mK\u001b[0m \u001b[0;34m=\u001b[0m \u001b[0mnp\u001b[0m\u001b[0;34m.\u001b[0m\u001b[0mexp\u001b[0m\u001b[0;34m(\u001b[0m\u001b[0;34m-\u001b[0m \u001b[0mgamma\u001b[0m \u001b[0;34m*\u001b[0m \u001b[0;34m(\u001b[0m\u001b[0mX1_norm\u001b[0m\u001b[0;34m[\u001b[0m\u001b[0;34m:\u001b[0m\u001b[0;34m,\u001b[0m \u001b[0;32mNone\u001b[0m\u001b[0;34m]\u001b[0m \u001b[0;34m+\u001b[0m \u001b[0mX2_norm\u001b[0m\u001b[0;34m[\u001b[0m\u001b[0;32mNone\u001b[0m\u001b[0;34m,\u001b[0m \u001b[0;34m:\u001b[0m\u001b[0;34m]\u001b[0m \u001b[0;34m-\u001b[0m \u001b[0;36m2\u001b[0m \u001b[0;34m*\u001b[0m \u001b[0mnp\u001b[0m\u001b[0;34m.\u001b[0m\u001b[0mdot\u001b[0m\u001b[0;34m(\u001b[0m\u001b[0mX1\u001b[0m\u001b[0;34m,\u001b[0m \u001b[0mX2\u001b[0m\u001b[0;34m.\u001b[0m\u001b[0mT\u001b[0m\u001b[0;34m)\u001b[0m\u001b[0;34m)\u001b[0m\u001b[0;34m)\u001b[0m\u001b[0;34m\u001b[0m\u001b[0;34m\u001b[0m\u001b[0m\n\u001b[0m\u001b[1;32m     15\u001b[0m     \u001b[0;32mreturn\u001b[0m \u001b[0mK\u001b[0m\u001b[0;34m\u001b[0m\u001b[0;34m\u001b[0m\u001b[0m\n",
      "\u001b[0;32m<__array_function__ internals>\u001b[0m in \u001b[0;36mdot\u001b[0;34m(*args, **kwargs)\u001b[0m\n",
      "\u001b[0;31mValueError\u001b[0m: shapes (15,3) and (3,10,1,0) not aligned: 3 (dim 1) != 1 (dim 2)"
     ]
    }
   ],
   "source": [
    "p = 3\n",
    "X_train = np.random.randn(0, 1, (10, p))\n",
    "X_test = np.zeros((15, p))\n",
    "print(X_train)\n",
    "print(rbf_kernel(X_test, X_train).shape)"
   ]
  },
  {
   "cell_type": "code",
   "execution_count": 33,
   "metadata": {},
   "outputs": [],
   "source": [
    "p = 3\n",
    "\n",
    "\n",
    "# X_train = np.random.randn(0, 1, 10)\n",
    "#X_test"
   ]
  },
  {
   "cell_type": "markdown",
   "metadata": {},
   "source": [
    "### Choosing $\\sigma$\n",
    "A practical approach of choosing $\\sigma$ is called the \"median heuristic\":\n",
    "    $$ \\sigma \\approx median\\{\\|x_i-x_j\\|:i,j=1,\\dots,n\\} \\,.$$\n",
    "\n",
    "Implement this heuristic:"
   ]
  },
  {
   "cell_type": "code",
   "execution_count": 68,
   "metadata": {
    "collapsed": true,
    "jupyter": {
     "outputs_hidden": true
    }
   },
   "outputs": [],
   "source": [
    "def sigma_from_median(X):\n",
    "'''\n",
    "Returns the median of ||Xi-Xj||\n",
    "\n",
    "Input\n",
    "-----\n",
    "X: (n, p) matrix\n",
    "'''\n",
    "pairwise_diff = X[:, :, None] - X[:, :, None].T\n",
    "pairwise_diff *= pairwise_diff\n",
    "euclidean_dist = np.sqrt(pairwise_diff.sum(axis=1))\n",
    "return np.median(euclidean_dist) "
   ]
  },
  {
   "cell_type": "code",
   "execution_count": 7,
   "metadata": {
    "collapsed": true,
    "jupyter": {
     "outputs_hidden": true
    }
   },
   "outputs": [],
   "source": [
    "# Simulate data\n",
    "np.random.seed(54321)\n",
    "p = 2\n",
    "\n",
    "def generate_Xy(n_samples, p=2, sigma=.2):\n",
    "    # Half of y is 1s, other half is -1\n",
    "    y = np.ones(n_samples)\n",
    "    mid = int(n_samples / 2)\n",
    "    y[mid:] *= -1\n",
    "    \n",
    "    X = np.random.normal(0, sigma, (n_samples, p))\n",
    "    X += (1 - y[:, np.newaxis]) / 2 # add 1 when y = -1\n",
    "    # X of shape (n, p)\n",
    "    # y vector of length n\n",
    "    return X, y\n",
    "\n",
    "# Training data\n",
    "X_train, y_train = generate_Xy(20, sigma=1.)\n",
    "\n",
    "# Testing data\n",
    "X_test, y_test = generate_Xy(1000, sigma=10.)"
   ]
  },
  {
   "cell_type": "markdown",
   "metadata": {},
   "source": [
    "Plot the matrix $K$ for different values of sigma"
   ]
  },
  {
   "cell_type": "code",
   "execution_count": 8,
   "metadata": {},
   "outputs": [
    {
     "ename": "NameError",
     "evalue": "name 'sigma_from_median' is not defined",
     "output_type": "error",
     "traceback": [
      "\u001b[0;31m---------------------------------------------------------------------------\u001b[0m",
      "\u001b[0;31mNameError\u001b[0m                                 Traceback (most recent call last)",
      "\u001b[0;32m<ipython-input-8-7dce47944086>\u001b[0m in \u001b[0;36m<module>\u001b[0;34m()\u001b[0m\n\u001b[1;32m      5\u001b[0m \u001b[0;31m# sigma very small, very large and median heuristic\u001b[0m\u001b[0;34m\u001b[0m\u001b[0;34m\u001b[0m\u001b[0m\n\u001b[1;32m      6\u001b[0m \u001b[0mkeyL\u001b[0m \u001b[0;34m=\u001b[0m \u001b[0;34m[\u001b[0m\u001b[0;34m'Very small sigma'\u001b[0m\u001b[0;34m,\u001b[0m \u001b[0;34m'Very large sigma'\u001b[0m\u001b[0;34m,\u001b[0m \u001b[0;34m'Median heuristic'\u001b[0m\u001b[0;34m]\u001b[0m\u001b[0;34m\u001b[0m\u001b[0m\n\u001b[0;32m----> 7\u001b[0;31m \u001b[0msigL\u001b[0m \u001b[0;34m=\u001b[0m \u001b[0;34m[\u001b[0m\u001b[0;36m1e-6\u001b[0m\u001b[0;34m,\u001b[0m \u001b[0;36m1e6\u001b[0m\u001b[0;34m,\u001b[0m \u001b[0msigma_from_median\u001b[0m\u001b[0;34m(\u001b[0m\u001b[0mXtrain\u001b[0m\u001b[0;34m)\u001b[0m\u001b[0;34m]\u001b[0m\u001b[0;34m\u001b[0m\u001b[0m\n\u001b[0m\u001b[1;32m      8\u001b[0m \u001b[0mKL\u001b[0m \u001b[0;34m=\u001b[0m \u001b[0;34m[\u001b[0m\u001b[0mrbf_kernel\u001b[0m\u001b[0;34m(\u001b[0m\u001b[0mXtrain\u001b[0m\u001b[0;34m,\u001b[0m \u001b[0mXtrain\u001b[0m\u001b[0;34m,\u001b[0m \u001b[0msigma\u001b[0m\u001b[0;34m=\u001b[0m\u001b[0msig\u001b[0m\u001b[0;34m)\u001b[0m \u001b[0;32mfor\u001b[0m \u001b[0msig\u001b[0m \u001b[0;32min\u001b[0m \u001b[0msigL\u001b[0m\u001b[0;34m]\u001b[0m\u001b[0;34m\u001b[0m\u001b[0m\n\u001b[1;32m      9\u001b[0m \u001b[0;34m\u001b[0m\u001b[0m\n",
      "\u001b[0;31mNameError\u001b[0m: name 'sigma_from_median' is not defined"
     ]
    }
   ],
   "source": [
    "from matplotlib import pyplot as plt\n",
    "%matplotlib inline\n",
    "\n",
    "# sigma very small, very large and median heuristic\n",
    "sig = sigma_from_median(Xtrain)\n",
    "K = \n",
    "\n",
    "# Plot\n",
    "fig, (ax0) = plt.subplots(1,1)\n",
    "ax0.matshow(K)"
   ]
  },
  {
   "cell_type": "code",
   "execution_count": null,
   "metadata": {},
   "outputs": [],
   "source": [
    "from matplotlib import pyplot as plt\n",
    "from sklearn.metrics.pairwise import euclidean_distances\n",
    "%matplotlib inline\n",
    "\n",
    "# sigma very small, very large and median heuristic\n",
    "keyL = ['Very small sigma', 'Very large sigma', 'Median heuristic']\n",
    "sigL = [1e-6, 1e6, sigma_from_median(X_train)]\n",
    "KL = [rbf_kernel(X_train, X_train, sigma=sig) for sig in sigL]\n",
    "\n",
    "# Plot\n",
    "fig, (ax0, ax1, ax2) = plt.subplots(1,3)\n",
    "ax0.matshow(KL[0])\n",
    "ax0.set_xlabel(keyL[0])\n",
    "ax1.matshow(KL[1])\n",
    "ax1.set_xlabel(keyL[1])\n",
    "ax2.matshow(KL[2])\n",
    "ax2.set_xlabel(keyL[2]) "
   ]
  },
  {
   "cell_type": "markdown",
   "metadata": {},
   "source": [
    "### Kernel Ridge Regression\n"
   ]
  },
  {
   "cell_type": "code",
   "execution_count": 104,
   "metadata": {
    "collapsed": true,
    "jupyter": {
     "outputs_hidden": true
    }
   },
   "outputs": [],
   "source": [
    "class KernelRidge():\n",
    "    '''\n",
    "    Kernel Ridge Regression\n",
    "    '''\n",
    "    def __init__(self, sigma=None, lambd=0.1):\n",
    "        self.kernel = rbf_kernel\n",
    "        self.sigma = sigma\n",
    "        self.lambd = lambd\n",
    "\n",
    "    def fit(self, X, y):\n",
    "        n, p = X.shape\n",
    "        assert (n == len(y))\n",
    "    \n",
    "        self.X_train = X\n",
    "        \n",
    "        # Compute default sigma\n",
    "        if self.sigma is None:\n",
    "            self.sigma = \n",
    "\n",
    "        # self.alpha = (K + n lambda I)^-1 y\n",
    "\n",
    "        return self\n",
    "        \n",
    "    def predict(self, X):\n",
    "        # Prediction rule: \n",
    "        return "
   ]
  },
  {
   "cell_type": "code",
   "execution_count": 105,
   "metadata": {
    "scrolled": true
   },
   "outputs": [
    {
     "data": {
      "text/plain": [
       "array([ 0.51970182,  0.55911705,  0.48255494,  0.51560631,  0.46670212,\n",
       "        0.51054277,  0.47172857,  0.47086859,  0.54429453,  0.54770767,\n",
       "        0.45552314,  0.46840654,  0.30607116,  0.49008368,  0.5253794 ,\n",
       "        0.42736933,  0.49930503,  0.41617075,  0.48218923,  0.46816863,\n",
       "        0.46987034,  0.51753461,  0.47017448,  0.50976508,  0.54240157,\n",
       "        0.42588491,  0.47259491,  0.52710212,  0.43619919,  0.4121355 ,\n",
       "        0.52727164,  0.4165148 ,  0.45114217,  0.47579989,  0.49470782,\n",
       "        0.56093866,  0.4893487 ,  0.52228012,  0.43808997,  0.5536883 ,\n",
       "        0.44804678,  0.48808828,  0.44851005,  0.5443624 ,  0.45109541,\n",
       "        0.53452209,  0.50372204,  0.52484532,  0.48718113,  0.54624079,\n",
       "        0.54556161,  0.47560946, -0.25397978, -0.28066301, -0.3265254 ,\n",
       "       -0.16854957,  0.03254212, -0.26251318, -0.24019375, -0.05011492,\n",
       "       -0.25018106,  0.27289231, -0.14470363, -0.09923317, -0.00491888,\n",
       "        0.0923028 , -0.07025557, -0.2410661 , -0.34078275, -0.04058272,\n",
       "       -0.16398267,  0.39773427,  0.31618166, -0.14679421, -0.44341201,\n",
       "        0.01704102,  0.09470312, -0.33743934, -0.16402141,  0.1160758 ,\n",
       "        0.41690086,  0.51898199, -0.57722924,  0.52661055,  0.22852033,\n",
       "       -0.56096387, -0.52039995,  0.0072435 ,  0.22892672, -0.15246475,\n",
       "        0.01144967, -0.0345763 , -0.10450685, -0.01566268, -0.11595377,\n",
       "        0.07693885, -0.01811358, -0.36515894, -0.46361686, -0.54705365])"
      ]
     },
     "execution_count": 105,
     "metadata": {},
     "output_type": "execute_result"
    }
   ],
   "source": [
    "model = KernelRidge(lambd=0.1, sigma=None)\n",
    "model.fit(Xtrain, ytrain).predict(Xtest)"
   ]
  },
  {
   "cell_type": "markdown",
   "metadata": {},
   "source": [
    "#### Reproduce the figures from slide 135"
   ]
  },
  {
   "cell_type": "code",
   "execution_count": 106,
   "metadata": {
    "collapsed": true,
    "jupyter": {
     "outputs_hidden": true
    }
   },
   "outputs": [],
   "source": []
  }
 ],
 "metadata": {
  "kernelspec": {
   "display_name": "Python 3",
   "language": "python",
   "name": "python3"
  },
  "language_info": {
   "codemirror_mode": {
    "name": "ipython",
    "version": 3
   },
   "file_extension": ".py",
   "mimetype": "text/x-python",
   "name": "python",
   "nbconvert_exporter": "python",
   "pygments_lexer": "ipython3",
   "version": "3.7.4"
  }
 },
 "nbformat": 4,
 "nbformat_minor": 4
}
